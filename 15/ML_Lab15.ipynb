{
  "nbformat": 4,
  "nbformat_minor": 0,
  "metadata": {
    "colab": {
      "name": "ML Lab15.ipynb",
      "provenance": [],
      "collapsed_sections": []
    },
    "kernelspec": {
      "name": "python3",
      "display_name": "Python 3"
    }
  },
  "cells": [
    {
      "cell_type": "code",
      "metadata": {
        "id": "FzJE3GzfneEP"
      },
      "source": [
        "import pandas as pd\r\n",
        "from sklearn.decomposition import PCA\r\n",
        "import numpy as np"
      ],
      "execution_count": null,
      "outputs": []
    },
    {
      "cell_type": "markdown",
      "metadata": {
        "id": "hlslcC4Jo5YH"
      },
      "source": [
        "Данные взяты отсюда: https://www.coursera.org/learn/vvedenie-mashinnoe-obuchenie/programming/UzPbw/sostavlieniie-fondovogho-indieksa "
      ]
    },
    {
      "cell_type": "code",
      "metadata": {
        "id": "du8AZ2lAnlQY"
      },
      "source": [
        "data = pd.read_csv('https://raw.githubusercontent.com/romvano/ML-Introduction/master/L4/close_prices.csv')\r\n",
        "data_index = pd.read_csv('https://raw.githubusercontent.com/romvano/ML-Introduction/master/L4/djia_index.csv')"
      ],
      "execution_count": null,
      "outputs": []
    },
    {
      "cell_type": "markdown",
      "metadata": {
        "id": "wdFkJmSoqPHv"
      },
      "source": [
        "Представленный набор данных описывает цены акций 30 компаний на закрытии торгов за каждый день периода."
      ]
    },
    {
      "cell_type": "code",
      "metadata": {
        "colab": {
          "base_uri": "https://localhost:8080/",
          "height": 549
        },
        "id": "odk2KbyeoWUi",
        "outputId": "2c13f8ce-d3fc-4465-a9a7-2e4df952e30d"
      },
      "source": [
        "data.head(10)"
      ],
      "execution_count": null,
      "outputs": [
        {
          "output_type": "execute_result",
          "data": {
            "text/html": [
              "<div>\n",
              "<style scoped>\n",
              "    .dataframe tbody tr th:only-of-type {\n",
              "        vertical-align: middle;\n",
              "    }\n",
              "\n",
              "    .dataframe tbody tr th {\n",
              "        vertical-align: top;\n",
              "    }\n",
              "\n",
              "    .dataframe thead th {\n",
              "        text-align: right;\n",
              "    }\n",
              "</style>\n",
              "<table border=\"1\" class=\"dataframe\">\n",
              "  <thead>\n",
              "    <tr style=\"text-align: right;\">\n",
              "      <th></th>\n",
              "      <th>date</th>\n",
              "      <th>AXP</th>\n",
              "      <th>BA</th>\n",
              "      <th>CAT</th>\n",
              "      <th>CSCO</th>\n",
              "      <th>CVX</th>\n",
              "      <th>DD</th>\n",
              "      <th>DIS</th>\n",
              "      <th>GE</th>\n",
              "      <th>GS</th>\n",
              "      <th>HD</th>\n",
              "      <th>IBM</th>\n",
              "      <th>INTC</th>\n",
              "      <th>JNJ</th>\n",
              "      <th>JPM</th>\n",
              "      <th>KO</th>\n",
              "      <th>MCD</th>\n",
              "      <th>MMM</th>\n",
              "      <th>MRK</th>\n",
              "      <th>MSFT</th>\n",
              "      <th>NKE</th>\n",
              "      <th>PFE</th>\n",
              "      <th>PG</th>\n",
              "      <th>T</th>\n",
              "      <th>TRV</th>\n",
              "      <th>UNH</th>\n",
              "      <th>UTX</th>\n",
              "      <th>V</th>\n",
              "      <th>VZ</th>\n",
              "      <th>WMT</th>\n",
              "      <th>XOM</th>\n",
              "    </tr>\n",
              "  </thead>\n",
              "  <tbody>\n",
              "    <tr>\n",
              "      <th>0</th>\n",
              "      <td>2013-09-23</td>\n",
              "      <td>76.440002</td>\n",
              "      <td>117.510002</td>\n",
              "      <td>85.029999</td>\n",
              "      <td>24.270000</td>\n",
              "      <td>125.519997</td>\n",
              "      <td>59.409999</td>\n",
              "      <td>64.750000</td>\n",
              "      <td>24.280001</td>\n",
              "      <td>165.250000</td>\n",
              "      <td>75.910004</td>\n",
              "      <td>190.990005</td>\n",
              "      <td>23.620001</td>\n",
              "      <td>89.089996</td>\n",
              "      <td>51.459999</td>\n",
              "      <td>38.630001</td>\n",
              "      <td>97.279999</td>\n",
              "      <td>121.110001</td>\n",
              "      <td>47.680000</td>\n",
              "      <td>32.740002</td>\n",
              "      <td>68.980003</td>\n",
              "      <td>28.799999</td>\n",
              "      <td>79.279999</td>\n",
              "      <td>34.220001</td>\n",
              "      <td>86.379997</td>\n",
              "      <td>71.820000</td>\n",
              "      <td>109.419998</td>\n",
              "      <td>196.240005</td>\n",
              "      <td>47.980000</td>\n",
              "      <td>76.419998</td>\n",
              "      <td>87.750000</td>\n",
              "    </tr>\n",
              "    <tr>\n",
              "      <th>1</th>\n",
              "      <td>2013-09-24</td>\n",
              "      <td>76.070000</td>\n",
              "      <td>119.000000</td>\n",
              "      <td>85.110001</td>\n",
              "      <td>24.139999</td>\n",
              "      <td>124.489998</td>\n",
              "      <td>59.319997</td>\n",
              "      <td>64.320000</td>\n",
              "      <td>24.320000</td>\n",
              "      <td>162.970001</td>\n",
              "      <td>76.040001</td>\n",
              "      <td>189.970001</td>\n",
              "      <td>23.700001</td>\n",
              "      <td>88.220001</td>\n",
              "      <td>50.320000</td>\n",
              "      <td>38.529999</td>\n",
              "      <td>97.779999</td>\n",
              "      <td>120.800003</td>\n",
              "      <td>47.529999</td>\n",
              "      <td>32.450001</td>\n",
              "      <td>69.430000</td>\n",
              "      <td>28.709999</td>\n",
              "      <td>78.620003</td>\n",
              "      <td>34.090000</td>\n",
              "      <td>85.870003</td>\n",
              "      <td>72.320000</td>\n",
              "      <td>110.000000</td>\n",
              "      <td>193.339996</td>\n",
              "      <td>47.270000</td>\n",
              "      <td>75.750000</td>\n",
              "      <td>87.360001</td>\n",
              "    </tr>\n",
              "    <tr>\n",
              "      <th>2</th>\n",
              "      <td>2013-09-25</td>\n",
              "      <td>75.989998</td>\n",
              "      <td>118.510002</td>\n",
              "      <td>84.500000</td>\n",
              "      <td>24.430000</td>\n",
              "      <td>124.070000</td>\n",
              "      <td>59.319997</td>\n",
              "      <td>64.449997</td>\n",
              "      <td>24.230000</td>\n",
              "      <td>162.309998</td>\n",
              "      <td>75.519997</td>\n",
              "      <td>189.470001</td>\n",
              "      <td>23.700001</td>\n",
              "      <td>87.080002</td>\n",
              "      <td>51.700001</td>\n",
              "      <td>38.330002</td>\n",
              "      <td>97.620003</td>\n",
              "      <td>120.199997</td>\n",
              "      <td>47.669998</td>\n",
              "      <td>32.509998</td>\n",
              "      <td>68.919998</td>\n",
              "      <td>28.490000</td>\n",
              "      <td>77.720001</td>\n",
              "      <td>34.049999</td>\n",
              "      <td>85.980003</td>\n",
              "      <td>71.980003</td>\n",
              "      <td>109.260002</td>\n",
              "      <td>191.559998</td>\n",
              "      <td>46.950001</td>\n",
              "      <td>74.650002</td>\n",
              "      <td>87.139999</td>\n",
              "    </tr>\n",
              "    <tr>\n",
              "      <th>3</th>\n",
              "      <td>2013-09-26</td>\n",
              "      <td>76.320000</td>\n",
              "      <td>119.379997</td>\n",
              "      <td>84.199997</td>\n",
              "      <td>23.770000</td>\n",
              "      <td>123.489998</td>\n",
              "      <td>59.509996</td>\n",
              "      <td>65.239998</td>\n",
              "      <td>24.250000</td>\n",
              "      <td>162.289993</td>\n",
              "      <td>76.070000</td>\n",
              "      <td>190.220001</td>\n",
              "      <td>23.410000</td>\n",
              "      <td>87.070000</td>\n",
              "      <td>51.889999</td>\n",
              "      <td>38.740002</td>\n",
              "      <td>98.190002</td>\n",
              "      <td>120.660004</td>\n",
              "      <td>47.680000</td>\n",
              "      <td>32.770000</td>\n",
              "      <td>70.339996</td>\n",
              "      <td>28.520000</td>\n",
              "      <td>78.050003</td>\n",
              "      <td>34.230000</td>\n",
              "      <td>85.830002</td>\n",
              "      <td>72.160004</td>\n",
              "      <td>109.660004</td>\n",
              "      <td>193.559998</td>\n",
              "      <td>47.669998</td>\n",
              "      <td>74.620003</td>\n",
              "      <td>87.070000</td>\n",
              "    </tr>\n",
              "    <tr>\n",
              "      <th>4</th>\n",
              "      <td>2013-09-27</td>\n",
              "      <td>75.889999</td>\n",
              "      <td>118.739998</td>\n",
              "      <td>83.800003</td>\n",
              "      <td>23.330000</td>\n",
              "      <td>122.639999</td>\n",
              "      <td>59.009995</td>\n",
              "      <td>65.190002</td>\n",
              "      <td>24.049999</td>\n",
              "      <td>159.850006</td>\n",
              "      <td>75.959999</td>\n",
              "      <td>186.919998</td>\n",
              "      <td>22.980000</td>\n",
              "      <td>86.730003</td>\n",
              "      <td>52.240002</td>\n",
              "      <td>38.400002</td>\n",
              "      <td>97.120003</td>\n",
              "      <td>120.220001</td>\n",
              "      <td>47.790001</td>\n",
              "      <td>33.270000</td>\n",
              "      <td>73.639999</td>\n",
              "      <td>28.879999</td>\n",
              "      <td>77.209999</td>\n",
              "      <td>33.980000</td>\n",
              "      <td>85.410004</td>\n",
              "      <td>71.989998</td>\n",
              "      <td>109.360001</td>\n",
              "      <td>193.050003</td>\n",
              "      <td>47.000000</td>\n",
              "      <td>74.360001</td>\n",
              "      <td>86.900002</td>\n",
              "    </tr>\n",
              "    <tr>\n",
              "      <th>5</th>\n",
              "      <td>2013-09-30</td>\n",
              "      <td>75.519997</td>\n",
              "      <td>117.500000</td>\n",
              "      <td>83.400002</td>\n",
              "      <td>23.430000</td>\n",
              "      <td>121.500000</td>\n",
              "      <td>58.560000</td>\n",
              "      <td>64.489998</td>\n",
              "      <td>23.889999</td>\n",
              "      <td>158.210007</td>\n",
              "      <td>75.849998</td>\n",
              "      <td>185.179993</td>\n",
              "      <td>22.920000</td>\n",
              "      <td>86.690002</td>\n",
              "      <td>51.689999</td>\n",
              "      <td>37.880001</td>\n",
              "      <td>96.209999</td>\n",
              "      <td>119.410004</td>\n",
              "      <td>47.610001</td>\n",
              "      <td>33.279999</td>\n",
              "      <td>72.639999</td>\n",
              "      <td>28.730000</td>\n",
              "      <td>75.589996</td>\n",
              "      <td>33.820000</td>\n",
              "      <td>84.769997</td>\n",
              "      <td>71.610001</td>\n",
              "      <td>107.820000</td>\n",
              "      <td>191.100006</td>\n",
              "      <td>46.669998</td>\n",
              "      <td>73.959999</td>\n",
              "      <td>86.040001</td>\n",
              "    </tr>\n",
              "    <tr>\n",
              "      <th>6</th>\n",
              "      <td>2013-10-01</td>\n",
              "      <td>75.930000</td>\n",
              "      <td>117.750000</td>\n",
              "      <td>83.760002</td>\n",
              "      <td>23.240000</td>\n",
              "      <td>121.320000</td>\n",
              "      <td>58.689999</td>\n",
              "      <td>64.830002</td>\n",
              "      <td>24.170000</td>\n",
              "      <td>159.000000</td>\n",
              "      <td>76.260002</td>\n",
              "      <td>186.380005</td>\n",
              "      <td>22.830000</td>\n",
              "      <td>87.470001</td>\n",
              "      <td>51.959999</td>\n",
              "      <td>37.950001</td>\n",
              "      <td>96.129997</td>\n",
              "      <td>119.620003</td>\n",
              "      <td>48.740002</td>\n",
              "      <td>33.580002</td>\n",
              "      <td>72.419998</td>\n",
              "      <td>28.889999</td>\n",
              "      <td>76.160004</td>\n",
              "      <td>34.060001</td>\n",
              "      <td>84.660004</td>\n",
              "      <td>72.580002</td>\n",
              "      <td>107.379997</td>\n",
              "      <td>193.220001</td>\n",
              "      <td>46.990002</td>\n",
              "      <td>73.589996</td>\n",
              "      <td>86.000000</td>\n",
              "    </tr>\n",
              "    <tr>\n",
              "      <th>7</th>\n",
              "      <td>2013-10-02</td>\n",
              "      <td>74.580002</td>\n",
              "      <td>117.839996</td>\n",
              "      <td>84.070000</td>\n",
              "      <td>23.320000</td>\n",
              "      <td>120.830002</td>\n",
              "      <td>58.989999</td>\n",
              "      <td>64.879997</td>\n",
              "      <td>24.330000</td>\n",
              "      <td>158.669998</td>\n",
              "      <td>76.320000</td>\n",
              "      <td>184.960007</td>\n",
              "      <td>22.889999</td>\n",
              "      <td>87.290001</td>\n",
              "      <td>52.090000</td>\n",
              "      <td>37.430000</td>\n",
              "      <td>95.279999</td>\n",
              "      <td>119.199997</td>\n",
              "      <td>48.369999</td>\n",
              "      <td>33.919998</td>\n",
              "      <td>71.889999</td>\n",
              "      <td>29.010000</td>\n",
              "      <td>75.930000</td>\n",
              "      <td>33.939999</td>\n",
              "      <td>84.480003</td>\n",
              "      <td>72.570000</td>\n",
              "      <td>104.980003</td>\n",
              "      <td>191.820007</td>\n",
              "      <td>46.790001</td>\n",
              "      <td>73.720001</td>\n",
              "      <td>86.080002</td>\n",
              "    </tr>\n",
              "    <tr>\n",
              "      <th>8</th>\n",
              "      <td>2013-10-03</td>\n",
              "      <td>74.019997</td>\n",
              "      <td>115.239998</td>\n",
              "      <td>83.970001</td>\n",
              "      <td>23.010000</td>\n",
              "      <td>118.250000</td>\n",
              "      <td>57.759995</td>\n",
              "      <td>64.019997</td>\n",
              "      <td>24.100000</td>\n",
              "      <td>156.850006</td>\n",
              "      <td>75.879997</td>\n",
              "      <td>183.860001</td>\n",
              "      <td>22.600000</td>\n",
              "      <td>86.580002</td>\n",
              "      <td>51.939999</td>\n",
              "      <td>37.160000</td>\n",
              "      <td>94.669998</td>\n",
              "      <td>118.550003</td>\n",
              "      <td>48.360001</td>\n",
              "      <td>33.860001</td>\n",
              "      <td>71.639999</td>\n",
              "      <td>28.770000</td>\n",
              "      <td>75.839996</td>\n",
              "      <td>33.639999</td>\n",
              "      <td>84.059998</td>\n",
              "      <td>72.519997</td>\n",
              "      <td>103.690002</td>\n",
              "      <td>188.649994</td>\n",
              "      <td>47.009998</td>\n",
              "      <td>73.160004</td>\n",
              "      <td>85.500000</td>\n",
              "    </tr>\n",
              "    <tr>\n",
              "      <th>9</th>\n",
              "      <td>2013-10-04</td>\n",
              "      <td>74.309998</td>\n",
              "      <td>117.199997</td>\n",
              "      <td>84.199997</td>\n",
              "      <td>23.020000</td>\n",
              "      <td>118.129997</td>\n",
              "      <td>58.649998</td>\n",
              "      <td>65.300003</td>\n",
              "      <td>24.049999</td>\n",
              "      <td>156.550003</td>\n",
              "      <td>75.779999</td>\n",
              "      <td>184.100006</td>\n",
              "      <td>22.809999</td>\n",
              "      <td>87.309998</td>\n",
              "      <td>52.669998</td>\n",
              "      <td>37.200001</td>\n",
              "      <td>94.699997</td>\n",
              "      <td>119.400002</td>\n",
              "      <td>48.230000</td>\n",
              "      <td>33.880001</td>\n",
              "      <td>72.139999</td>\n",
              "      <td>29.000000</td>\n",
              "      <td>76.019997</td>\n",
              "      <td>33.750000</td>\n",
              "      <td>84.680000</td>\n",
              "      <td>72.989998</td>\n",
              "      <td>104.269997</td>\n",
              "      <td>190.479996</td>\n",
              "      <td>47.099998</td>\n",
              "      <td>72.800003</td>\n",
              "      <td>86.320000</td>\n",
              "    </tr>\n",
              "  </tbody>\n",
              "</table>\n",
              "</div>"
            ],
            "text/plain": [
              "         date        AXP          BA  ...         VZ        WMT        XOM\n",
              "0  2013-09-23  76.440002  117.510002  ...  47.980000  76.419998  87.750000\n",
              "1  2013-09-24  76.070000  119.000000  ...  47.270000  75.750000  87.360001\n",
              "2  2013-09-25  75.989998  118.510002  ...  46.950001  74.650002  87.139999\n",
              "3  2013-09-26  76.320000  119.379997  ...  47.669998  74.620003  87.070000\n",
              "4  2013-09-27  75.889999  118.739998  ...  47.000000  74.360001  86.900002\n",
              "5  2013-09-30  75.519997  117.500000  ...  46.669998  73.959999  86.040001\n",
              "6  2013-10-01  75.930000  117.750000  ...  46.990002  73.589996  86.000000\n",
              "7  2013-10-02  74.580002  117.839996  ...  46.790001  73.720001  86.080002\n",
              "8  2013-10-03  74.019997  115.239998  ...  47.009998  73.160004  85.500000\n",
              "9  2013-10-04  74.309998  117.199997  ...  47.099998  72.800003  86.320000\n",
              "\n",
              "[10 rows x 31 columns]"
            ]
          },
          "metadata": {
            "tags": []
          },
          "execution_count": 3
        }
      ]
    },
    {
      "cell_type": "code",
      "metadata": {
        "id": "Ol7ZAAtrqguT"
      },
      "source": [
        "X = data.iloc[:, 1:]"
      ],
      "execution_count": null,
      "outputs": []
    },
    {
      "cell_type": "markdown",
      "metadata": {
        "id": "flQIKGLhqbNP"
      },
      "source": [
        "Для того, чтобы обучить преобразование PCA с заданным числом компоненты, воспользуемся модулем `decomposition` в классе `PCA`. Пусть число компонент равно 10 (`n_components`). Применим обученное преобразование к данным:"
      ]
    },
    {
      "cell_type": "code",
      "metadata": {
        "id": "Tt4Zz4AeqjcG"
      },
      "source": [
        "pca = PCA(n_components=10)\r\n",
        "new_data = pca.fit_transform(X)"
      ],
      "execution_count": null,
      "outputs": []
    },
    {
      "cell_type": "markdown",
      "metadata": {
        "id": "57bpjLRgrxNO"
      },
      "source": [
        "Процент дисперсии, который объясняет каждая компонента, сохраним в переменную `v`:"
      ]
    },
    {
      "cell_type": "code",
      "metadata": {
        "id": "2jfpT_l5qlJl",
        "colab": {
          "base_uri": "https://localhost:8080/"
        },
        "outputId": "8bb12b7a-936d-4261-d44e-087323b129cb"
      },
      "source": [
        "v = pca.explained_variance_ratio_\r\n",
        "v"
      ],
      "execution_count": null,
      "outputs": [
        {
          "output_type": "execute_result",
          "data": {
            "text/plain": [
              "array([0.73897118, 0.11007169, 0.04995088, 0.0287492 , 0.02215448,\n",
              "       0.01931577, 0.00674853, 0.00614091, 0.00320594, 0.00305611])"
            ]
          },
          "metadata": {
            "tags": []
          },
          "execution_count": 6
        }
      ]
    },
    {
      "cell_type": "markdown",
      "metadata": {
        "id": "W2x7UIPer97f"
      },
      "source": [
        "Теперь определим, сколько компонент хватит, чтобы объяснить 90% дисперсии:"
      ]
    },
    {
      "cell_type": "code",
      "metadata": {
        "colab": {
          "base_uri": "https://localhost:8080/"
        },
        "id": "Q3OnPyyvqnN3",
        "outputId": "4a7e9c80-9e2b-4200-d3e5-68be3b1d12bd"
      },
      "source": [
        "i = 0\r\n",
        "sum = 0\r\n",
        "\r\n",
        "for i in range(0, len(v)):\r\n",
        "    if (np.sum(v[0:i]) > 0.9): break\r\n",
        "print(i)"
      ],
      "execution_count": null,
      "outputs": [
        {
          "output_type": "stream",
          "text": [
            "4\n"
          ],
          "name": "stdout"
        }
      ]
    },
    {
      "cell_type": "markdown",
      "metadata": {
        "id": "nZyVm0SZsipH"
      },
      "source": [
        "Таким образом, всего 4 компоненты объясняют 90% дисперсии данных."
      ]
    },
    {
      "cell_type": "markdown",
      "metadata": {
        "id": "qt7Si2MMtbBm"
      },
      "source": [
        "Для нахождения коэффициента корреляции Пирсона воспользуемся функцией `corrcoef` из пакета `numpy`:"
      ]
    },
    {
      "cell_type": "code",
      "metadata": {
        "colab": {
          "base_uri": "https://localhost:8080/"
        },
        "id": "idtoij_NqpEF",
        "outputId": "60a9ea81-bd65-4eee-e419-6a7da6cfbc80"
      },
      "source": [
        "corrcoef = np.corrcoef(new_data[:, 0], data_index.iloc[:, 1])\r\n",
        "print(corrcoef)"
      ],
      "execution_count": null,
      "outputs": [
        {
          "output_type": "stream",
          "text": [
            "[[1.         0.90965222]\n",
            " [0.90965222 1.        ]]\n"
          ],
          "name": "stdout"
        }
      ]
    },
    {
      "cell_type": "markdown",
      "metadata": {
        "id": "LuD8grb1t7EN"
      },
      "source": [
        "Корреляция Пирсона между первой компонентой и индексом Доу-Джонса равна 0.91."
      ]
    },
    {
      "cell_type": "markdown",
      "metadata": {
        "id": "nt1d4RlFuRLU"
      },
      "source": [
        "Определим, какая компания  имеет наибольший вес в первой компоненте. Для этого сравним в цикле веса всех компаний в первой компоненте (поле `components_` содержит информацию о том, какой вклад вносят признаки в компоненты)."
      ]
    },
    {
      "cell_type": "code",
      "metadata": {
        "colab": {
          "base_uri": "https://localhost:8080/"
        },
        "id": "SVbJmGKvqrKS",
        "outputId": "e6d798ab-2e5c-4a1a-c8a7-649beded6305"
      },
      "source": [
        "k = 0\r\n",
        "i = 0\r\n",
        "max = 0\r\n",
        "for i in range(0, len(pca.components_[0])):\r\n",
        "    if pca.components_[0][i] > max:\r\n",
        "        max = pca.components_[0][i]\r\n",
        "        k = i\r\n",
        "print(X.columns[k])"
      ],
      "execution_count": null,
      "outputs": [
        {
          "output_type": "stream",
          "text": [
            "V\n"
          ],
          "name": "stdout"
        }
      ]
    },
    {
      "cell_type": "markdown",
      "metadata": {
        "id": "qYYE_cPQwjnJ"
      },
      "source": [
        "В итоге, компания под названием `V` имеет наибольший вес в первой компоненте."
      ]
    }
  ]
}